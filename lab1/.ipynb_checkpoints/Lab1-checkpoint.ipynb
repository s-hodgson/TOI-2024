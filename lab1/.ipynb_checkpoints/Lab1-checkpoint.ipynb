{
 "cells": [
  {
   "cell_type": "markdown",
   "metadata": {},
   "source": [
    " \n",
    "<table style=\"width:100%\">\n",
    "  <tr style=\"background-color:#002147\">\n",
    "    <th><p style=\"color:white\">Professional Programme, Department of Computer Science, University of Oxford</th> \n",
    "  </tr>\n",
    "</table>"
   ]
  },
  {
   "cell_type": "markdown",
   "metadata": {},
   "source": [
    "\n",
    "\n",
    "#  Things of the Internet (TOI)\n",
    "\n",
    "\n",
    "\n"
   ]
  },
  {
   "cell_type": "markdown",
   "metadata": {},
   "source": [
    "# LAB 1: RF Based Positioning"
   ]
  },
  {
   "cell_type": "markdown",
   "metadata": {},
   "source": [
    "Please note the submission deadline for this report is Tuesday 12:00 PM, March 22nd, 2022."
   ]
  },
  {
   "cell_type": "markdown",
   "metadata": {},
   "source": [
    "Your name:"
   ]
  },
  {
   "cell_type": "markdown",
   "metadata": {},
   "source": [
    "##  Introduction\n",
    "\n",
    "Localization is a key capability for things of the internet. Things need to know where they are to provide context to sensor readings. There are many ways of working out where a sensor is, ranging from GPS to inertial measurement units. However, one of the simplest techniques is to use measurements of ambient radio signal strength e.g. WiFi. Things are equipped with wireless transceivers anyway for communication, so the key is to try and exploit the transceiver to give measurements of location. This is particularly well suited to indoor settings, where a number of APs (access points/routers) are installed to provide good communication coverage so mobile devices can connect to a wireless network. The operating principle is simple: the closer the device is to an AP, the stronger the received signal strength is. However, the devil is in the details – the surrounding environment (walls, people, furniture, obstacles etc etc) all conspire to alter the relationship between signal strength and distance, so what starts off as a nice straight line in theory, turns into a very wiggly and noisy relationship. What is worse, this relationship is dynamic as well – a stationary WiFi device will typically experience a variation in signal strength over time.\n",
    "\n",
    "So the question is: how are we going to use these noisy measurements to estimate a device’s location and how accurate can it be?\n",
    "Rather than using a physics based model and trying to model and represent all the sources of disturbance, we take a much simpler approach. We approach the problem by breaking it down into two stages. In the first stage (the offline phase), we manually survey the signal strengths, i.e. we stand in a surveyed location and record what APs can be heard and with what strength. We obtain a vector (tuple) of measurements e.g. <X:-20,Y:-30,Z-32> could be the vector from one location, where we can hear APs X,Y and Z and <W:-40,Z-60> could be the vector from another location where we can hear APs W and Z. These vectors of signal strength are commonly called fingerprints i.e. the hope is that they are sufficiently unique and discriminative such that every location has a different fingerprint. Obviously, there is a time (and consequently financial) cost in building the map, so there is a question about how precisely the map needs to be surveyed e.g. on a 1 m grid spacing or on a 5 m grid spacing or even simply in the centre of each room.\n",
    "\n",
    "In the second phase (the online phase), the device will record a vector of signal strengths. The goal now is to come up with some algorithm that, with the aid of the map collected in the offline phase, could accurately determine the location of the device. There are many different approaches to doing this, and the aim of this lab is to demonstrate how a location system could be built using WiFi signal strength measurements, to consider factors which would impact its performance, and to discuss its relative merits.\n"
   ]
  },
  {
   "cell_type": "markdown",
   "metadata": {},
   "source": [
    "<div class=\"alert alert-warning\">\n",
    "<b>NOTE</b> The labs in this course are based on Python 3. Please refer to the environment setting introduction for details. If you have any problems with Python version please ask for help.\n",
    "</div> \n"
   ]
  },
  {
   "cell_type": "markdown",
   "metadata": {},
   "source": [
    "## Exploratory Data Analysis\n",
    "\n",
    "We have collected a set of data for use in this lab. During the offline phase we survey the environment collecting RSS measurements. For this demonstration we have collected 60 samples per location. Navigate to “data/set1/wifiData/” and open “Wifi_14.txt” with a text editor to look at a sample file. The first few lines look like the following:\n",
    "\n",
    "`\n",
    "2 4\n",
    "1 AP_1 -37.89\n",
    "2 AP_2 -52.63\n",
    "3 AP_3 -44.98\n",
    "4 AP_1 -38.68\n",
    "5 AP_2 -61.14\n",
    "6 AP_3 -35.08\n",
    "7 AP_1 -39.46\n",
    "8 AP_2 -61.62\n",
    "9 AP_3 -47.00\n",
    "10 AP_1 -38.00\n",
    "11 AP_2 -60.69\n",
    ".....`\n",
    "\n",
    "The first line in the file is the survey coordinate i.e. (x = 2 m, y = 4 m).  The remainder of the lines detail the signal strengths in dBm from each access point. Note that each access point normally has a long BSSID as a unique identifier (e.g. `d8:c7:c8:cc:43:24`), but we have made things simpler here for ease of understanding.\n",
    "\n",
    "Each file corresponds to a different survey location and typically 60 measurements are taken from each AP. In this dataset (set1), there are 3 APs in range, and in total we have collected Wi-Fi samples from 121 locations. \n",
    "\n",
    "During the online phase we want to estimate the user’s unknown location using RSS readings collected at that location. Navigate to “data/set1/testWifiData/” and answer the following questions:"
   ]
  },
  {
   "cell_type": "markdown",
   "metadata": {},
   "source": [
    "<div class=\"alert alert-info\">\n",
    "Q: What is the number of unknown locations that we are going to estimate?\n",
    "</div> \t"
   ]
  },
  {
   "cell_type": "markdown",
   "metadata": {},
   "source": [
    "Your answer: "
   ]
  },
  {
   "cell_type": "markdown",
   "metadata": {},
   "source": [
    "<div class=\"alert alert-info\">\n",
    "Q: How many RSS measurements have we collected per location per access point? \n",
    "</div> \t"
   ]
  },
  {
   "cell_type": "markdown",
   "metadata": {},
   "source": [
    "Your answer: "
   ]
  },
  {
   "cell_type": "markdown",
   "metadata": {},
   "source": [
    "<div class=\"alert alert-info\">\n",
    "Q: What do you see in the first line of each file? Comment on that.\n",
    "</div> \t"
   ]
  },
  {
   "cell_type": "markdown",
   "metadata": {},
   "source": [
    "Your answer: "
   ]
  },
  {
   "cell_type": "markdown",
   "metadata": {},
   "source": [
    "Finally, we have collected two datasets (i.e. set1 and set2); set1 contains RSS measurements with respect to 3 APs and set2 with respect to 5 APs."
   ]
  },
  {
   "cell_type": "markdown",
   "metadata": {},
   "source": [
    "### Loading and visualizing\n",
    "\n",
    "We have written some helper functions which load the datasets (both test and train) and visualize their spatial distribution, which can be found in `helper.py`. "
   ]
  },
  {
   "cell_type": "code",
   "execution_count": null,
   "metadata": {},
   "outputs": [],
   "source": [
    "import helper as myhelper"
   ]
  },
  {
   "cell_type": "markdown",
   "metadata": {},
   "source": [
    "The function `load_wifi_data` has the following API\n",
    "\n",
    "```python\n",
    "def load_wifi_data(data_folder, n_samples, n_ap):\n",
    "    \"\"\"\n",
    "    :param data_folder: Location of WiFi RSS data\n",
    "    :param n_samples: Number of RSS samples to return for each location\n",
    "    :param n_ap: Number of access points\n",
    "    :return: train and test wifi databases\n",
    "    \"\"\"\n",
    " ```\n",
    " \n",
    "Lets load up the train and test datasets from Set1 (3 APs)."
   ]
  },
  {
   "cell_type": "code",
   "execution_count": null,
   "metadata": {},
   "outputs": [],
   "source": [
    "import os\n",
    "parent_dir = os.path.abspath(os.path.join('..'))\n",
    "datasetpath = os.path.join(parent_dir,'lab1','data','set1')\n",
    "NUMBER_OF_APS = 3\n",
    "MAX_SAMPLES = 60\n",
    "trainData,testData = myhelper.load_wifi_data(datasetpath,MAX_SAMPLES,NUMBER_OF_APS)"
   ]
  },
  {
   "cell_type": "markdown",
   "metadata": {},
   "source": [
    "The dataset is stored simply as a large array, with the following structure.\n",
    "![db1.png](db1.png)\n"
   ]
  },
  {
   "cell_type": "markdown",
   "metadata": {},
   "source": [
    "<div class=\"alert alert-info\">\n",
    "Q: Do you think this is the best representation of the dataset? What would be a better (and indeed more Pythonic) way?\n",
    "</div> "
   ]
  },
  {
   "cell_type": "markdown",
   "metadata": {},
   "source": [
    "Your answer: "
   ]
  },
  {
   "cell_type": "markdown",
   "metadata": {},
   "source": [
    "Lets look at the first row of the training dataset. It corresponds to the readings obtained from the location (0,0)"
   ]
  },
  {
   "cell_type": "code",
   "execution_count": null,
   "metadata": {},
   "outputs": [],
   "source": [
    "# look a the first row of the array\n",
    "trainData[0,:]"
   ]
  },
  {
   "cell_type": "markdown",
   "metadata": {},
   "source": [
    "Investigate the sample strengths from AP1 at this location point, using the snippet below. "
   ]
  },
  {
   "cell_type": "code",
   "execution_count": null,
   "metadata": {},
   "outputs": [],
   "source": [
    "import pylab\n",
    "import numpy as np\n",
    "signalStrengthAP1 = trainData[7,3:MAX_SAMPLES+3] # We use 3 as an offset to handle the location/file-info in the array.\n",
    "pylab.plot(signalStrengthAP1)\n",
    "pylab.show()"
   ]
  },
  {
   "cell_type": "markdown",
   "metadata": {},
   "source": [
    "<div class=\"alert alert-info\">\n",
    "Q: What do you notice about the signal strength readings?\n",
    "</div> "
   ]
  },
  {
   "cell_type": "markdown",
   "metadata": {},
   "source": [
    "Your answer: "
   ]
  },
  {
   "cell_type": "markdown",
   "metadata": {},
   "source": [
    "Change the location index and examine what happens to the signal strength. Is there any pattern you can see?"
   ]
  },
  {
   "cell_type": "markdown",
   "metadata": {},
   "source": [
    "<div class=\"alert alert-info\">\n",
    "Q: Can you estimate the likely position of AP1?\n",
    "</div> "
   ]
  },
  {
   "cell_type": "markdown",
   "metadata": {},
   "source": [
    "Your answer: "
   ]
  },
  {
   "cell_type": "markdown",
   "metadata": {},
   "source": [
    "<div class=\"alert alert-success\">\n",
    "Advanced question: (optional) Can you visualize 2-D map of signal strength for each access point?\n",
    "</div> "
   ]
  },
  {
   "cell_type": "markdown",
   "metadata": {},
   "source": [
    "Your answer: "
   ]
  },
  {
   "cell_type": "markdown",
   "metadata": {},
   "source": [
    "## A simple approach to finding location\n",
    "\n",
    "Now that we have a better understanding of how the signals vary over space (and time), we can now try and solve the localization problem: given a set of signal strengths at an unknown location and an offline map, can we find the best estimate of the device position?\n",
    "\n",
    "One of the simplest approaches is just a nearest neighbour lookup i.e. we just compare our candidate set of signal strengths to the signal strengths in the offline map and find the closest match. \n",
    "\n",
    "<div class=\"alert alert-info\">\n",
    "Q: What would be a good way of working out how \"far\" two sets of signal strengths are from each other?\n",
    "</div> "
   ]
  },
  {
   "cell_type": "markdown",
   "metadata": {},
   "source": [
    "Your answer:"
   ]
  },
  {
   "cell_type": "markdown",
   "metadata": {},
   "source": [
    "Rather than using all the raw information in the table, it perhaps would be more helpful to turn the 60 readings from each AP into representative statistics. \n",
    "\n",
    "<div class=\"alert alert-info\">\n",
    "Q: What are some sensible statistics that could be used?\n",
    "</div>"
   ]
  },
  {
   "cell_type": "markdown",
   "metadata": {},
   "source": [
    "Your answer:"
   ]
  },
  {
   "cell_type": "markdown",
   "metadata": {},
   "source": [
    "In this approach, we will simply compute the mean of the readings in the map for each AP. We will then compute the difference between the trial signal strength and each of the values in the map, recording the index of the smallest distance. Lets start from the first point in the testData set.\n",
    "\n",
    "<div class=\"alert alert-info\">\n",
    "Q: What is the ground-truth location of this point?\n",
    "</div>"
   ]
  },
  {
   "cell_type": "markdown",
   "metadata": {},
   "source": [
    "Your answer:"
   ]
  },
  {
   "cell_type": "markdown",
   "metadata": {},
   "source": [
    "Fill in the skeleton code below to find the closest point in the offline map to the candidate point. Note that although we take 50 samples in the test data set, we are just using the first sample point i.e. an instantaneous snap-shot."
   ]
  },
  {
   "cell_type": "code",
   "execution_count": null,
   "metadata": {},
   "outputs": [],
   "source": [
    "import numpy\n",
    "\n",
    "# Take out the first row out of the testData set\n",
    "testRow = testData[0,:]\n",
    "# Extract the ground-truth location\n",
    "groundTruthX = testRow[1]\n",
    "groundTruthY = testRow[2]\n",
    "# Take the Signal Strengths of each AP in the trial point\n",
    "testAP1 = testRow[3]\n",
    "testAP2 = testRow[3+50]\n",
    "testAP3 = testRow[3+50*2]\n",
    "# Iterate through the map\n",
    "for k in range(numpy.shape(trainData)[0]):\n",
    "    surveyAP1mean = numpy.mean(trainData[k,3:3+MAX_SAMPLES])\n",
    "    surveyAP2mean = numpy.mean(trainData[k,3+MAX_SAMPLES:3+2*MAX_SAMPLES])\n",
    "    surveyAP3mean = numpy.mean(trainData[k,3+2*MAX_SAMPLES:3+3*MAX_SAMPLES])\n",
    "    # compute the score here, and record the best position in the map\n",
    "    # ....\n",
    "# ...    "
   ]
  },
  {
   "cell_type": "markdown",
   "metadata": {},
   "source": [
    "<div class=\"alert alert-info\">\n",
    "Q: What is the distance error between the ground-truth location and the closest match in the map?\n",
    "</div>"
   ]
  },
  {
   "cell_type": "markdown",
   "metadata": {},
   "source": [
    "Your answer: "
   ]
  },
  {
   "cell_type": "markdown",
   "metadata": {},
   "source": [
    "<div class=\"alert alert-info\">\n",
    "Q: For the testing data, now we try using the average value of the 50 samples in the test data set instead of just the first one. Does the accuracy improve?\n",
    "</div>"
   ]
  },
  {
   "cell_type": "markdown",
   "metadata": {},
   "source": [
    "Your answer: "
   ]
  },
  {
   "cell_type": "markdown",
   "metadata": {},
   "source": [
    "<div class=\"alert alert-info\">\n",
    "Q: Wrap your code into a function `predict()` that you can use to run through all the test points to compute errors for each test location. Visualize the result with the help of the following plot function. What is the mean overall error? What is the worst case error? Which do you think is more important for a location system and why?\n",
    "</div>"
   ]
  },
  {
   "cell_type": "markdown",
   "metadata": {},
   "source": [
    "Your answer: "
   ]
  },
  {
   "cell_type": "code",
   "execution_count": null,
   "metadata": {},
   "outputs": [],
   "source": [
    "# Plot the actual and estimated locations\n",
    "import matplotlib.pyplot as plt\n",
    "def plot_path(actual_loc, predicted_loc, n_ap):\n",
    "    \"\"\"\n",
    "    :param actual_loc: Actual locations\n",
    "    :param predicted_loc: Estimated locations\n",
    "    :param n_ap: Number of APs\n",
    "    :return: null\n",
    "    \"\"\"\n",
    "    print(\"-> Visualizing estimated trajectory...\")\n",
    "\n",
    "    if n_ap == 3:\n",
    "        ap_loc = np.array([[6, 6], [8, 16], [18, 14]])\n",
    "    else:\n",
    "        ap_loc = np.array([[6, 6], [8, 16], [18, 14], [16, 4], [12, 10]])\n",
    "\n",
    "    plt.figure()\n",
    "    plt.plot(ap_loc[:, 0], ap_loc[:, 1], 'b*', markersize=15)\n",
    "    plt.plot(actual_loc[:, 0], actual_loc[:, 1], 'go-', linewidth=2)\n",
    "    plt.plot(predicted_loc[:, 0], predicted_loc[:, 1], 'ro-', linewidth=2)\n",
    "\n",
    "    major_ticks = np.arange(-2, 22, 2)\n",
    "\n",
    "    axes = plt.gca()\n",
    "    axes.set_xlim([-2, 22])\n",
    "    axes.set_ylim([-2, 22])\n",
    "    axes.set_xticks(major_ticks)\n",
    "    axes.set_yticks(major_ticks)\n",
    "    plt.xlabel('X -> m')\n",
    "    plt.ylabel('Y -> m')\n",
    "    plt.title('Green line = actual path , Red line = estimated path, Blue points = AP loc')\n",
    "    plt.grid(True)\n",
    "    plt.show(block=False)\n",
    "\n",
    "    print(\"done\\n\")\n",
    "    return\n",
    "\n",
    "#your code here\n",
    "actual_loc = testData[:, 1:3]\n",
    "#predicted_loc = # your code here\n",
    "#plot_path(actual_loc,predicted_loc,3)\n",
    "\n",
    "#calculate mean error, median error, etc. here."
   ]
  },
  {
   "cell_type": "markdown",
   "metadata": {},
   "source": [
    "<div class=\"alert alert-info\">\n",
    "Q: (optional) Instead of finding the best (closest) match in the map, what if you instead found the top-k matches and then computed their mean? Do this centroid-weighting approach help or not?\n",
    "</div>"
   ]
  },
  {
   "cell_type": "markdown",
   "metadata": {},
   "source": [
    "Your answer:"
   ]
  },
  {
   "cell_type": "markdown",
   "metadata": {},
   "source": [
    "## HORUS: A probabilistic approach to location finding\n",
    "\n"
   ]
  },
  {
   "cell_type": "markdown",
   "metadata": {},
   "source": [
    "Instead of just taking the mean value of the signal strengths in the map, we can consider including higher-order statistics as well, e.g. the variance (or standard-deviation) that reflect the variability in the signal over time. One of the first approaches to wifi fingerprinting proposed just this technique, which we will implement a simplified version of.\n",
    "\n",
    "> Youssef, Moustafa, and Ashok Agrawala. \"The Horus WLAN location determination system.\" Proceedings of the 3rd international conference on Mobile systems, applications, and services. ACM, 2005.\n"
   ]
  },
  {
   "cell_type": "markdown",
   "metadata": {},
   "source": [
    "### Mathematical Model\n",
    "\n",
    "Let $X$ be a 2-dimensional physical space. At each location $x \\in X$, we can measure the signal strength from $k$ access points. We denote the $k$-dimensional signal strength space as $S$. We denote samples from the signal strength space $S$ as $s$. We also assume that the samples from different access points are independent. \n",
    "The problem becomes, given a signal strength vector $s=(s_1, s_2 ... s_k)$ , we want to find the location $x \\in X$ that maximizes the probability $\\mathrm{P} (x \\vert s)$\n",
    "\n",
    "1)\t*Offline phase:* During the offline phase, the Horus system estimates the signal strength histogram for each access point at each location. These histograms represent the Horus system’s radio map. \n",
    "\n",
    "\n",
    "2)\t*Online phase:* Given a signal strength vector $s=(s_1, s_2 ... s_k)$ , we want to find the location $x \\in X$ that maximizes the probability  $P(x  \\vert   s)$, i.e. we want to find\n",
    "\n",
    "$$\\newcommand{\\argmaxI}{\\mathop{\\mathrm{argmax}}\\nolimits} \\argmaxI_x \\mathrm{P} (x \\vert s)$$\n",
    " \n",
    "\n",
    "Using Bayes’ theorem, this can be shown to be equivalent to:\n",
    "\n",
    "$$\\newcommand{\\argmaxI}{\\mathop{\\mathrm{argmax}}\\nolimits} \n",
    "\\argmaxI_x \\mathrm{P} (x \\vert s) =\n",
    "\\argmaxI_x \\mathrm{P} (s \\vert x) =\n",
    "\\argmaxI_x \\prod_{i=1}^{k} \\mathrm{P} (s_i \\vert x) $$\n",
    " \n",
    "Effectively, it says that we should find the location in the map that would maximize the likelihood (probability) of resulting in the sampled measurements."
   ]
  },
  {
   "cell_type": "markdown",
   "metadata": {},
   "source": [
    "### Offline Phase: Build a histogram map\n",
    "\n",
    "In the offline phase, instead of storing N different raw measurements, or aggregating them using their mean, we will instead look at their distribution. Lets first investigate how best to represent the distribution compactly.\n",
    "\n",
    "\n",
    "<div class=\"alert alert-info\">\n",
    "Q: Plot a histogram (hint: use `pylab.hist()`) of signal strengths from one AP for one location. What do you notice about the distribution? Does this hold for other points in the survey dataset?\n",
    "</div>\n"
   ]
  },
  {
   "cell_type": "code",
   "execution_count": null,
   "metadata": {},
   "outputs": [],
   "source": [
    "#your code here"
   ]
  },
  {
   "cell_type": "markdown",
   "metadata": {},
   "source": [
    "Your answer:"
   ]
  },
  {
   "attachments": {
    "db2.png": {
     "image/png": "[encoded data removed]"
    }
   },
   "cell_type": "markdown",
   "metadata": {},
   "source": [
    "Rather than storing the histogram as a set of bins, we can represent it as a normal (Gaussian) distribution. The normal distribution is parameterized by a mean $\\mu$ and standard deviation $\\sigma$. We can fit a normal distribution to a histogram of signal strengths to compactly represent the random variations, regardless of the number of samples in the histogram. We can use the helper function with the API below to transform the raw signal strength databases into normally distributed data.\n",
    "\n",
    "```python\n",
    "def fit_data(train_db, n_samples, n_ap):\n",
    "    \"\"\"\n",
    "    :param train_db: RSS points collected at known locations\n",
    "    :param n_samples: Number of RSS samples per location\n",
    "    :param n_ap: Number of access points\n",
    "    :return: Wifi fingerprint database; We approximate the RSS at each location with a Gaussian\n",
    "    \"\"\"\n",
    "```    \n",
    "\n",
    "Given a raw dataset of signal strengths as above, this transforms it into an array with the following structure:\n",
    "\n",
    "![db2.png](attachment:db2.png)\n",
    "\n",
    "This is accomplished in the two lines of code below. We also visualize a few samples to have a better understanding of the norm fitting process."
   ]
  },
  {
   "cell_type": "code",
   "execution_count": null,
   "metadata": {
    "scrolled": false
   },
   "outputs": [],
   "source": [
    "normTrainData = myhelper.fit_data(trainData,MAX_SAMPLES,NUMBER_OF_APS)\n",
    "normTestData = myhelper.fit_data(testData,MAX_SAMPLES,NUMBER_OF_APS)\n",
    "\n",
    "# visualization for a better understanding\n",
    "# visualize location 0 AP1, location 1 AP 2 and location 2 AP 3\n",
    "import matplotlib.pyplot as plt\n",
    "from scipy.stats import norm\n",
    "%matplotlib inline\n",
    "# Plot\n",
    "fig, axs = plt.subplots(1,3, figsize=(10,4))\n",
    "\n",
    "for measurement_idx in range(3):\n",
    "        #Plot histogram\n",
    "        n, bins, patches = axs[measurement_idx].hist(trainData[measurement_idx, 3+MAX_SAMPLES * measurement_idx: 3+MAX_SAMPLES*(measurement_idx + 1)], \n",
    "                                                     bins=10, density=True, histtype='step', cumulative=False, label='Histogram')\n",
    "\n",
    "        #Compute and plot normal distribution\n",
    "        mu = normTrainData[measurement_idx, 3+measurement_idx*2]\n",
    "        sigma = normTrainData[measurement_idx, 4+measurement_idx*2]        \n",
    "        x = np.linspace(mu - 3*sigma, mu + 3*sigma, 100)\n",
    "        axs[measurement_idx].plot(x, norm.pdf(x, mu, sigma),label='Gaussian fit')\n",
    "        \n",
    "        #Set labels\n",
    "        axs[measurement_idx].grid(True)\n",
    "        axs[measurement_idx].legend()\n",
    "        axs[measurement_idx].set_title('Number of counts')\n",
    "        axs[measurement_idx].set_xlabel('RSSI')\n",
    "        axs[measurement_idx].set_ylabel('Probability')\n",
    "plt.tight_layout()\n",
    "plt.show()"
   ]
  },
  {
   "cell_type": "markdown",
   "metadata": {},
   "source": [
    "<div class=\"alert alert-info\">\n",
    "Q: What are the pros and cons of using the Gaussian distribution to represent the signal strength histogram. Can you provide some specific scenarios where it would be a bad approximation?\n",
    "</div>"
   ]
  },
  {
   "cell_type": "markdown",
   "metadata": {},
   "source": [
    "Your answer:"
   ]
  },
  {
   "cell_type": "markdown",
   "metadata": {},
   "source": [
    "### Online phase: find the best match\n",
    "\n",
    "Make a new version of your `predict()` function above to use this probabilistic technique. In particular, you will need to compute the likelihood that a sample (e.g. the mean of signal strength from AP_1) is actually drawn from the offline-computed distribution. You can compute the likelihood as follows:\n",
    "\n",
    "```python\n",
    "from scipy.stats import norm\n",
    "\n",
    "likelihood_AP1 = norm.pdf(trial_signal_strength_AP1, offline_mu_AP1, offline_sigma_AP1)\n",
    "likelihood_AP2 = norm.pdf(trial_signal_strength_AP2, offline_mu_AP2, offline_sigma_AP2)\n",
    "likelihood_AP3 = norm.pdf(trial_signal_strength_AP3, offline_mu_AP3, offline_sigma_AP3)\n",
    "likelihood = likelihood_AP1 * likelihood_AP2 * likelihood_AP3\n",
    "```\n",
    "\n",
    "As the Bayes equation shows above, you can simply multiply these probabilities together. An alternative approach, which is numerically more stable, is to instead take the log-likelihood. By taking logs of both sides of the equation, the multiplication turns into an addition, and you can simply add the log-likelihood probabilities from each AP to obtain the overall log-likelihood.  \n",
    "\n",
    "```python\n",
    "from scipy.stats import norm\n",
    "\n",
    "log_likelihood_AP1 = norm.logpdf(trial_signal_strength_AP1, offline_mu_AP1, offline_sigma_AP1)\n",
    "log_likelihood_AP2 = norm.logpdf(trial_signal_strength_AP2, offline_mu_AP2, offline_sigma_AP2)\n",
    "log_likelihood_AP3 = norm.logpdf(trial_signal_strength_AP3, offline_mu_AP3, offline_sigma_AP3)\n",
    "log_likelihood = log_likelihood_AP1 + log_likelihood_AP2 + log_likelihood_AP3\n",
    "```"
   ]
  },
  {
   "cell_type": "markdown",
   "metadata": {},
   "source": [
    "<div class=\"alert alert-info\">\n",
    "Q: Implement the probabilistic approach to `predict()` and compare its performance to the methods based simply on the mean or the centroid.\n",
    "</div>"
   ]
  },
  {
   "cell_type": "markdown",
   "metadata": {},
   "source": [
    "Your answer: "
   ]
  },
  {
   "cell_type": "code",
   "execution_count": null,
   "metadata": {},
   "outputs": [],
   "source": [
    "#your code here"
   ]
  },
  {
   "cell_type": "markdown",
   "metadata": {},
   "source": [
    "<div class=\"alert alert-success\">\n",
    "Advanced question (optional): Can you plot the error cumulative density function for each of your predict methods?\n",
    "</div> "
   ]
  },
  {
   "cell_type": "markdown",
   "metadata": {},
   "source": [
    "Your answer: "
   ]
  },
  {
   "cell_type": "code",
   "execution_count": null,
   "metadata": {},
   "outputs": [],
   "source": [
    "#your code here"
   ]
  },
  {
   "cell_type": "markdown",
   "metadata": {},
   "source": [
    "<div class=\"alert alert-info\">\n",
    "Q: (optional) How well do your methods work for the other dataset, with 5 APs?\n",
    "</div>"
   ]
  },
  {
   "cell_type": "markdown",
   "metadata": {},
   "source": [
    "Your answer:"
   ]
  },
  {
   "cell_type": "code",
   "execution_count": null,
   "metadata": {},
   "outputs": [],
   "source": [
    "#your code here"
   ]
  },
  {
   "cell_type": "markdown",
   "metadata": {},
   "source": [
    "<div class=\"alert alert-info\">\n",
    "Q: (optional) Compare and contrast the techniques you have developed today. Consider aspects such as computational cost and factors such as how best to acquire and store the map. How can you update the map? Can you build a map without any surveying at all? Where should the computation happen? What is the impact of device specific variation e.g. different wireless network cards?\n",
    "</div>"
   ]
  },
  {
   "cell_type": "markdown",
   "metadata": {},
   "source": [
    "Your answer:"
   ]
  }
 ],
 "metadata": {
  "anaconda-cloud": {},
  "kernelspec": {
   "display_name": "Python 3 (ipykernel)",
   "language": "python",
   "name": "python3"
  },
  "language_info": {
   "codemirror_mode": {
    "name": "ipython",
    "version": 3
   },
   "file_extension": ".py",
   "mimetype": "text/x-python",
   "name": "python",
   "nbconvert_exporter": "python",
   "pygments_lexer": "ipython3",
   "version": "3.7.0"
  }
 },
 "nbformat": 4,
 "nbformat_minor": 2
}
