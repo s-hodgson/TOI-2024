{
 "cells": [
  {
   "cell_type": "markdown",
   "metadata": {},
   "source": [
    " <table style=\"width:100%\">\n",
    "  <tr style=\"background-color:#002147\">\n",
    "    <th><p style=\"color:white\">Professional Programme, Department of Computer Science, University of Oxford</th> \n",
    "  </tr>\n",
    "</table>"
   ]
  },
  {
   "cell_type": "markdown",
   "metadata": {},
   "source": [
    "\n",
    "\n",
    "#  Things of the Internet (TOI) - Lab 2: Medium Access Control (MAC) Protocols\n"
   ]
  },
  {
   "cell_type": "markdown",
   "metadata": {},
   "source": [
    "##  Introduction\n",
    "\n",
    "In this practical, we will implement some contention-free (TDMA) and contention-based (Aloha and CSMA) MAC protocols, and study their performance in different context. In this lab, the Python kernel will researt everytime you run an experiment, so the program will intentionally shut down the kernel everytime. If you see the warning \"The kernel appears to have died. It will restart automatically.\", it's completely normal and you do not need to do anything about it.\n",
    "\n",
    "### 1 Performance Metrics\n",
    "To evaluate the performance of a MAC protocol, we consider the following two metrics.\n",
    "\n",
    "**Utilisation *U***, which is the ratio of the total throughput of all nodes to the maximum data rate of the channel. Intuitively, higher utilisation means the protocol uses the wireless channel better, without unnecessary idle. \n",
    "\n",
    "**Fairness *F***, which is defined as: \n",
    "<img src=\"fig1.png\" style=\"zoom:40%\" />\n",
    "Here N is the total amount of nodes, Ui  is the utilisation of each node. Clearly, if just one node occupies the channel, F would be 1/N, which is the worst case. If all nodes use the channel equally, F would be 1, which is the best case we want to achieve. \n",
    "\n",
    "### 2 The WSim simulator \n",
    "\n",
    "In this practical, we will primarily use the WSim simulator. It is a simple packet level network simulator for a shared media network. In WSim, all the nodes run the same MAC protocol, and it executes a set of steps every time slot (time increments by 1 each slot). You will have the full access to the source code, and you can implement your own protocols as you wish. For this practical, we have provided the code template that runs, and your main task is to understand and compare different MAC protocols.\n",
    "\n",
    "### 3 TDMA \n",
    "In this set of tasks, you will learn how to use the WSim simulator by running simulations of TDMA. As discussed in the lecture, TDMA divides time into slots (assume the length of each slot is 1), and the nodes send data one by one. Say we have $N$ nodes. Then at time $t$, the $i$-th node will transmit if and only if:\n",
    "- It has some data to send; and \n",
    "- $t$ mod $N$ == $i$\n",
    "\n",
    "Run the following command:"
   ]
  },
  {
   "cell_type": "code",
   "execution_count": null,
   "metadata": {
    "pycharm": {
     "is_executing": true
    },
    "scrolled": true
   },
   "outputs": [
    {
     "name": "stdout",
     "output_type": "stream",
     "text": [
      "  Node 0 attempts 236 success 236 coll 0\n",
      "  Node 1 attempts 248 success 248 coll 0\n",
      "  Node 2 attempts 228 success 228 coll 0\n",
      "  Node 3 attempts 225 success 225 coll 0\n",
      "  Node 4 attempts 228 success 228 coll 0\n",
      "  Node 5 attempts 198 success 198 coll 0\n",
      "  Node 6 attempts 239 success 239 coll 0\n",
      "  Node 7 attempts 234 success 233 coll 0\n",
      "Time 2000 attempts 1836 success 1835 util 0.92\n",
      "Inter-node fairness: 1.00\n",
      "Inter-node weighted fairness: 1.00\n"
     ]
    },
    {
     "data": {
      "image/png": "[encoded data removed]",
      "text/plain": [
       "<Figure size 640x480 with 1 Axes>"
      ]
     },
     "metadata": {},
     "output_type": "display_data"
    }
   ],
   "source": [
    "#Time Division Multiple Access (TDMA)\n",
    "import os\n",
    "import random, sys, wx, math, time\n",
    "from optparse import OptionParser\n",
    "from p2_wsim import *\n",
    "import matplotlib.pyplot as p\n",
    "\n",
    "###############################################################\n",
    "\n",
    "class TDMANode(WirelessNode):\n",
    "    def __init__(self, location, network, retry):\n",
    "        WirelessNode.__init__(self, location, network, retry)\n",
    "        # any additional state or variables may be set here\n",
    "\n",
    "    def channel_access(self, time, ptime, numnodes):\n",
    "        if (time/ptime) % (numnodes) == self.get_id():\n",
    "            return True\n",
    "        else:\n",
    "            return False\n",
    "\n",
    "    def on_collision(self, packet):\n",
    "        pass\n",
    "\n",
    "    def on_xmit_success(self, packet):\n",
    "        pass\n",
    "\n",
    "################################################################\n",
    "\n",
    "class TDMAWirelessNetwork(WirelessNetwork):\n",
    "    def __init__(self, n, chantype, ptime, dist, load, retry, backoff,\n",
    "                 skew=SOURCE_NOSKEW, qmax=0, simtime=10000):\n",
    "        WirelessNetwork.__init__(self, n, chantype, ptime, dist, load, retry, backoff,\n",
    "                                 skew, qmax, simtime)\n",
    "    def make_node(self, loc, retry):\n",
    "        return TDMANode(loc, self, retry)\n",
    "\n",
    "################################################################\n",
    "\n",
    "if __name__ == '__main__':\n",
    "    random.seed(6172538) # uncomment this line for repeatability\n",
    "    ## Task 3.2 to Task 3.5\n",
    "    ## TODO: modify the below parameters\n",
    "    gui = False\n",
    "    numnodes = 8\n",
    "    simtime = 2000\n",
    "    ptime = 1\n",
    "    load = 100\n",
    "    retry = True\n",
    "    skew = False\n",
    "    \n",
    "    wnet = TDMAWirelessNetwork(numnodes, 'TDMA', ptime,\n",
    "                               'exponential', load, retry, 'None',\n",
    "                               skew, 0, simtime)\n",
    "    if gui == True:\n",
    "        sim = NetSim()\n",
    "        sim.SetNetwork(wnet)\n",
    "        sim.MainLoop()\n",
    "    else:\n",
    "        wnet.step(simtime)\n",
    "        succ = []\n",
    "        for node in wnet.nlist: succ.append(node.stats.success)\n",
    "        for node in wnet.nlist:\n",
    "            if node.stats.collisions > 0:\n",
    "                print(\"ERROR! TDMA should not have collisions\")\n",
    "        ind = numpy.arange(len(wnet.nlist))\n",
    "        width = 0.35\n",
    "        p.bar(ind, succ, width, color = 'r')\n",
    "        p.ylabel('Throughput')\n",
    "        p.xlabel('Node #')\n",
    "        p.show()\n",
    "        time.sleep(5)\n",
    "    os._exit(0)"
   ]
  },
  {
   "cell_type": "markdown",
   "metadata": {},
   "source": [
    "This should bring up the GUI of the simulator as follows: \n",
    "\n",
    "<img src=\"fig2.png\" style=\"zoom:75%\" />\n",
    "\n",
    "_N.B. If running on a Mac, the button labels on the bottom may not show if you are in \"Dark Mode\", so change to \"Light Mode\" if you experience this issue._\n",
    "\n",
    "Each black block is a node, where A is the number of packets it has tried to send, S is the number of success, and Q is packages left in its queue. The bottom is the commands you can use, and the left panel shows the parameters.\n",
    "Set the parameters as follows, and click “Reset” to update the GUI:\n",
    " \n",
    "<img src=\"fig3.png\" style=\"zoom:75%\" />\n",
    "\n",
    "Now you can run the simulation, either manually (click “Step 1”, “Step 10”, …), or automatically (click “Play”). To speed up, you can click “Step all”. For now you shouldn’t see any meaningful output, but when you finish Task 1.3.1, you should be able to see the statistics in the terminal window:\n",
    "\n",
    "<img src=\"fig4.png\" style=\"zoom:100%\" />\n",
    "\n",
    "Or more conveniently, you may use modify the code to directly set the parameters. Setting *gui* to False, you may directly see the final results and a bar chart showing the throughput of each node. You could set the following parameters:\n",
    "\n",
    "| Parameter Name | Description | Default Value |\n",
    "| :------: | :------: | :------: |\n",
    "| gui | GUI trigger | True |\n",
    "| numnodes | Number of nodes | 16 |\n",
    "| simtime | Simulation time | 10000 |\n",
    "| ptime | Packet size (in time unit) | 1 (time slot) |\n",
    "| load | Total load % (in pkts/timeslot) | 100 |\n",
    "| retry | Retry packet after failure | False |\n",
    "| skew | Skew of the load | False |\n",
    "\n",
    "In particular, *skew* specifies whether the load between nodes are “skewed”. When this is set to be true, the maximum possible throughout of between nodes nodes will obey a geometrically-spaced amounts, i.e., Node 0 has the throughput of U/2, node 1 of U/4, node 2 a load of U/8 and so on. The last two nodes each present the same load, U/2N-1. You can think that in this case, some nodes have much more battery power, so it could send packets more frequently than the others."
   ]
  },
  {
   "cell_type": "markdown",
   "metadata": {},
   "source": [
    "**Task 3.1**: We have provided the code skeleton in the above code cell. Implement the channel_access(self,time,ptime,numnodes) function, which schedules the nodes to access the wireless channel. The input parameter time is the current time on the node, ptime is the size of the packet, and numnodes is the total amount of node in the network. You can get the id of current node by calling self.get_id() function. Your function should True if the channel is clear to send, and False otherwise. "
   ]
  },
  {
   "cell_type": "markdown",
   "metadata": {},
   "source": [
    "**Task 3.2**: Vary the packet size ranging from 1 to 10. What happens in terms of utilisation and fairness and why?"
   ]
  },
  {
   "cell_type": "markdown",
   "metadata": {},
   "source": [
    "Your answer: Decreases"
   ]
  },
  {
   "cell_type": "markdown",
   "metadata": {},
   "source": [
    "**Task 3.3**: In practice, if we typically have very large packets, will TDMA perform well?"
   ]
  },
  {
   "cell_type": "markdown",
   "metadata": {},
   "source": [
    "Your answer: No"
   ]
  },
  {
   "cell_type": "markdown",
   "metadata": {},
   "source": [
    "**Task 3.4\\***: (optional) Try to play with the *retry* parameter. If it is set to be True, will TDMA perform better? Why?"
   ]
  },
  {
   "cell_type": "markdown",
   "metadata": {},
   "source": [
    "Your answer: "
   ]
  },
  {
   "cell_type": "markdown",
   "metadata": {},
   "source": [
    "**Task 3.5\\***: (optional) Try to play with the *skew* parameter. Check both the utilisation and fairness: can you see the problem? Can you explain why? Note that in this case we should care about the “Inter-node weighted fairness”, which describes the fairness given the actual load of the nodes, i.e. it is fair to allow nodes with higher load to use the channel more."
   ]
  },
  {
   "cell_type": "markdown",
   "metadata": {},
   "source": [
    "Your answer: "
   ]
  },
  {
   "cell_type": "markdown",
   "metadata": {},
   "source": [
    "### 4 Stabling Slotted Aloha with Backoff\n",
    "Now you are familiar with the WSim simulator. In this practical, we will explore how to stable Aloha with a backoff strategy. As explained in the lecture, if a node fails to transmit a packet, it retransmits at a future slot with a certain probability p. This approach is not stable, since in practice for different amount of nodes with different loads, the optimal p value is unknown. To address this problem, we should consider a smarter strategy. \n",
    "\n",
    "In fact, the search for the right p can be guided by feedback: if a packet transmission is unsuccessful, we should decrease p, and vice versa. For example, you can use the binary exponential rule described in the lectures.\n",
    "\n",
    "A skeleton code is given below."
   ]
  },
  {
   "cell_type": "code",
   "execution_count": null,
   "metadata": {},
   "outputs": [],
   "source": [
    "#Stabilizing the Aloha protocol using random backoffs\n",
    "import os\n",
    "import random, sys, wx, math, time\n",
    "from optparse import OptionParser\n",
    "from p2_wsim import *\n",
    "import matplotlib.pyplot as p\n",
    "import numpy.random as nprand\n",
    "\n",
    "###############################################################\n",
    "\n",
    "class AlohaNode(WirelessNode):\n",
    "    def __init__(self, location, network, retry):\n",
    "        WirelessNode.__init__(self, location, network, retry)\n",
    "\n",
    "        # for plots of collisions/success\n",
    "        self.sent = []\n",
    "        self.coll = []\n",
    "\n",
    "        # initialize local probability of transmission\n",
    "        self.p = self.network.pmax\n",
    "\n",
    "    def channel_access(self, time, ptime, numnodes):\n",
    "        if (time % ptime == 0) and nprand.rand() < self.p: \n",
    "            return True\n",
    "        else:\n",
    "            return False\n",
    "\n",
    "    def on_collision(self, packet):\n",
    "        # for plots of collisions\n",
    "        self.coll.append(self.network.time)\n",
    "        self.p = max(self.p/2, self.pmin)\n",
    "\n",
    "    def on_xmit_success(self, packet):\n",
    "        # for plots of success\n",
    "        self.sent.append(self.network.time)\n",
    "        self.p = min(self.p*2, self.pmax)\n",
    "\n",
    "################################################################\n",
    "\n",
    "class AlohaWirelessNetwork(WirelessNetwork):\n",
    "    def __init__(self, n, chantype, ptime, dist, load, retry, backoff,\n",
    "                 skew, qmax, pmax, pmin, simtime):\n",
    "        self.pmax = pmax\n",
    "        self.pmin = pmin\n",
    "        WirelessNetwork.__init__(self, n, chantype, ptime, dist, load, retry, backoff,\n",
    "                                 skew, qmax, simtime)\n",
    "\n",
    "    def make_node(self, loc, retry):\n",
    "        return AlohaNode(loc, self, retry)\n",
    "\n",
    "################################################################\n",
    "\n",
    "if __name__ == '__main__':\n",
    "    random.seed(6172538) # For repeatability\n",
    "    \n",
    "    ## Task 4.3 to Task 4.7\n",
    "    ## TODO: modify the below parameters\n",
    "    gui = False\n",
    "    numnodes = 16\n",
    "    simtime = 10000\n",
    "    backoff = 'Mine' # backoff scheme (Mine, None)\n",
    "    ptime = 1\n",
    "    pmax = 1.0 # max probability of xmission\n",
    "    pmin = 0.0 # min probability of xmission\n",
    "    load = 100\n",
    "    retry = False\n",
    "    skew = False\n",
    "    \n",
    "    print('Protocol: Aloha with stabilization')\n",
    "    wnet = AlohaWirelessNetwork(numnodes, 'Aloha', ptime,\n",
    "                                'exponential', load, retry, backoff,\n",
    "                                skew, 0, pmax, pmin, simtime)\n",
    "\n",
    "    if gui == True:\n",
    "        sim = NetSim()\n",
    "        sim.SetNetwork(wnet)\n",
    "        sim.MainLoop()\n",
    "    else:\n",
    "        wnet.step(simtime)\n",
    "        plot_data(wnet)         # in p1_wsim\n",
    "        time.sleep(5)\n",
    "    os._exit(0)"
   ]
  },
  {
   "cell_type": "markdown",
   "metadata": {},
   "source": [
    "**Task 4.1**: We have provided the code skeleton above. Implement the *channel_access(self,time,ptime,numnodes)* function, to simulate the behaviour of slotted Aloha. The input parameter time is the current time on the node, ptime is the size of the packet, and numnodes is the total amount of node in the network. You can retrieve the current probability of whether transmit or not by calling *self.p*. Your function should True if the channel is clear to send, and False otherwise. "
   ]
  },
  {
   "cell_type": "markdown",
   "metadata": {},
   "source": [
    "**Task 4.2**: Implement some behaviour to vary the backoff probability as in the functions `on_collision(self,packet)` and `on_xmit_success(self,packet)`. The `packet` input parameter is the actual packet the node tries to send, although you don’t need to use it for this task. To help you understand the code, here is some extra information: \n",
    "\n",
    "- `self.p` is the current p of the node\n",
    "\n",
    "- `self.network.pmin` is the minimum probability pmin, which is the minium p you would like to set.\n",
    "\n",
    "- `self.network.pmax` is the maximum probability pmax, which is the maximum p you would like to set.\n",
    "\n",
    "Note that here we want the slotted Aloha, i.e. the length of the time slot is the same as the packet size, and the nodes only try to transmit at the beginning of each time slot.  "
   ]
  },
  {
   "cell_type": "markdown",
   "metadata": {},
   "source": [
    "**Task 4.3**: Test your code with different pmin and pmax values, e.g.,\n",
    "\n",
    "- ptime = 10\n",
    "- simtime = 10000\n",
    "- retry = True\n",
    "- numnodes = 8\n",
    "- pmin = 0.05\n",
    "- pmax = 0.95\n",
    "\n",
    "When you vary the value of pmin and pmax, what do you observe? The top of the result fig shows the successful/collided packets across time, and the bottom is the throughput of each node."
   ]
  },
  {
   "cell_type": "markdown",
   "metadata": {},
   "source": [
    "Your answer: "
   ]
  },
  {
   "cell_type": "markdown",
   "metadata": {},
   "source": [
    "**Task 4.4**: Test your code with the extreme case where pmin == pmax, e.g.,\n",
    "\n",
    "- ptime = 10\n",
    "- simtime = 10000\n",
    "- retry = True\n",
    "- numnodes = 8\n",
    "- pmin = 0.3\n",
    "- pmax = 0.3\n",
    "\n",
    "Comparing to using different pmin and pmax, what do you observe? Why?"
   ]
  },
  {
   "cell_type": "markdown",
   "metadata": {},
   "source": [
    "Your answer:"
   ]
  },
  {
   "cell_type": "markdown",
   "metadata": {},
   "source": [
    "**Task 4.5\\***: (optional) Run the following two simulations to compare the performance of the stabilised Aloha with TDMA: \n",
    "\n",
    "Parameters for the stabilised Aloha:\n",
    "\n",
    "- ptime = 10\n",
    "- simtime = 10000\n",
    "- retry = True\n",
    "- numnodes = 8\n",
    "- pmin = 0.3\n",
    "- pmax = 0.3\n",
    "\n",
    "Parameters for TDMA\n",
    "\n",
    "- ptime = 10\n",
    "- simtime = 10000\n",
    "- numnodes = 8\n",
    "\n",
    "What can you observe? "
   ]
  },
  {
   "cell_type": "markdown",
   "metadata": {},
   "source": [
    "Your answer:"
   ]
  },
  {
   "cell_type": "markdown",
   "metadata": {},
   "source": [
    "**Task 4.6\\***: (optinal) Recall that TDMA has problems with skewed load. Run the following two simulations to compare the performance of the stabilised Aloha with TDMA:\n",
    "\n",
    "Parameters for the stabilised Aloha:\n",
    "\n",
    "- ptime = 10\n",
    "- simtime = 10000\n",
    "- retry = True\n",
    "- numnodes = 8\n",
    "- pmin = 0.3\n",
    "- pmax = 0.3\n",
    "- skew = True\n",
    "\n",
    "Parameters for TDMA\n",
    "\n",
    "- ptime = 10\n",
    "- simtime = 10000\n",
    "- numnodes = 8\n",
    "- skew = True\n",
    "\n",
    "What can you observe? Why? Now change the node number to 32, what happens? What about 64, or 128 nodes?"
   ]
  },
  {
   "cell_type": "markdown",
   "metadata": {},
   "source": [
    "Your answer: "
   ]
  },
  {
   "cell_type": "markdown",
   "metadata": {},
   "source": [
    "**Task 4.7\\***: (optional) Can you think of different increasing/decreasing rules? Try to implement them and check their performance. "
   ]
  },
  {
   "cell_type": "markdown",
   "metadata": {},
   "source": [
    "Your answer:"
   ]
  },
  {
   "cell_type": "markdown",
   "metadata": {},
   "source": [
    "### 5 CSMA\n",
    "Now let’s see how CSMA works in practice, and compare it with TDMA and the stabilised Aloha. Unlike TDMA or Aloha, CSMA sense the wireless channel before trying to send any data. We consider the same stabilisation approach as in the stabilised Aloha, i.e. each node has a probability p to transmit, which will increase if successful, and decrease otherwise.\n",
    "\n",
    "A skeleton code is provided below:"
   ]
  },
  {
   "cell_type": "code",
   "execution_count": null,
   "metadata": {
    "scrolled": true
   },
   "outputs": [],
   "source": [
    "# Carrier Sense Multiple Access (CSMA)\n",
    "import os\n",
    "import random, sys, wx, math, time\n",
    "from optparse import OptionParser\n",
    "from p2_wsim import *\n",
    "import matplotlib.pyplot as p\n",
    "import numpy.random as nprand\n",
    "\n",
    "###############################################################\n",
    "\n",
    "class CSMANode(WirelessNode):\n",
    "    def __init__(self, location, network, retry):\n",
    "        WirelessNode.__init__(self, location, network, retry)\n",
    "\n",
    "        # for plots of collisions/success\n",
    "        self.sent = []\n",
    "        self.coll = []\n",
    "\n",
    "        # initialize local probability of transmission\n",
    "        self.p = self.network.pmax\n",
    "\n",
    "    def channel_access(self, time, ptime, numnodes):\n",
    "        ## Task 5.1\n",
    "        ## TODO: decide whehter to transmit\n",
    "        ## You can tell if the channel is busy or not using\n",
    "        ## the self.network.channel_busy() function call.\n",
    "        pass\n",
    "\n",
    "    def on_collision(self, packet):\n",
    "        # for plots of collisions\n",
    "        self.coll.append(self.network.time)\n",
    "\n",
    "        ## Task 5.2\n",
    "        ## TODO:Decrease the probability\n",
    "        pass\n",
    "\n",
    "    def on_xmit_success(self, packet):\n",
    "        # for plots of successful transmissions\n",
    "        self.sent.append(self.network.time)\n",
    "\n",
    "        ## Task 5.2\n",
    "        ## TODO:Increase the probability\n",
    "        pass\n",
    "\n",
    "################################################################\n",
    "\n",
    "class CSMAWirelessNetwork(WirelessNetwork):\n",
    "    def __init__(self, n, chantype, ptime, dist, load, retry, backoff,\n",
    "                 skew, qmax, pmax, pmin, simtime):\n",
    "        self.pmax = pmax\n",
    "        self.pmin = pmin\n",
    "        WirelessNetwork.__init__(self, n, chantype, ptime, dist, load, retry, backoff,\n",
    "                                 skew, qmax, simtime)\n",
    "\n",
    "    def make_node(self, loc, retry):\n",
    "        return CSMANode(loc, self, retry)\n",
    "\n",
    "################################################################\n",
    "\n",
    "if __name__ == '__main__':\n",
    "    random.seed(6172538) # For repeatability\n",
    "    \n",
    "    ## Task 5.3 to Task 5.5\n",
    "    ## TODO: modify the below parameters\n",
    "    gui = False\n",
    "    numnodes = 16\n",
    "    simtime = 10000\n",
    "    backoff = 'Mine' # backoff scheme (Mine, None)\n",
    "    ptime = 1\n",
    "    pmax = 1.0 # max probability of xmission\n",
    "    pmin = 0.0 # min probability of xmission\n",
    "    load = 100\n",
    "    retry = False\n",
    "    skew = False\n",
    "    \n",
    "    print('Protocol: CSMA with stabilization')\n",
    "    wnet = CSMAWirelessNetwork(numnodes, 'CSMA', ptime,\n",
    "                               'exponential', load, retry, backoff,\n",
    "                               skew, 0, pmax, pmin, simtime)\n",
    "\n",
    "    if gui == True:\n",
    "        sim = NetSim()\n",
    "        sim.SetNetwork(wnet)\n",
    "        sim.MainLoop()\n",
    "    else:\n",
    "        wnet.step(simtime)\n",
    "        plot_data(wnet)         # in p1_wsim)\n",
    "        time.sleep(5)\n",
    "    os._exit(0)"
   ]
  },
  {
   "cell_type": "markdown",
   "metadata": {},
   "source": [
    "**Task 5.1**: We have provided the code skeleton above. Implement the function *channel_access(self,time,ptime,numnodes)*, to sense the wireless channel before sending. The input parameter *time* is the current timestamp maintained by the node, *ptime* is the length of the packet to be sent, and *numnodes* is the total number of nodes. In this task, you don’t need to worry about the input parameters, and your code should return True if it is clear to send, and False otherwise. You can tell if the channel is busy or not by calling the function *self.network.channel_busy()*. Note that unlike the previous slotted Aloha, here we should allow packet size to be different from the slot size, e.g. the nodes can transmit packets of length 10 at the beginning of each timestamp. Also, don’t forget the node has to transmit according the probability *p*."
   ]
  },
  {
   "cell_type": "markdown",
   "metadata": {},
   "source": [
    "**Task 5.2**: Implement the increasing and decreasing rules in functions *on_collision (self,packet)* and *on_xmit_success (self,packet)*. As in the previous practical, you know the following: \n",
    "\n",
    "- *self.p*  the current p of the node\n",
    "- *self.network.pmin* the minimum probability pmin, which is set beforehand.\n",
    "- *self.network.pmax* the maximum probability pmax, which is set beforehand."
   ]
  },
  {
   "cell_type": "markdown",
   "metadata": {},
   "source": [
    "**Task 5.3**: Run the following simulation (note that here we set the packet size to 1):  \n",
    "\n",
    "CSMA, parameters:\n",
    "\n",
    "- retry = True\n",
    "- numnodes = 8\n",
    "- ptime = 1\n",
    "- simtime = 10000\n",
    "- pmin = 0.05\n",
    "- pmax = 0.95\n",
    "\n",
    "Stablised Aloha\n",
    "\n",
    "- retry = True\n",
    "- numnodes = 8\n",
    "- ptime = 1\n",
    "- simtime = 10000\n",
    "- pmin = 0.05\n",
    "- pmax = 0.95\n",
    "\n",
    "What do you observe?"
   ]
  },
  {
   "cell_type": "markdown",
   "metadata": {},
   "source": [
    "Your answer:"
   ]
  },
  {
   "cell_type": "markdown",
   "metadata": {},
   "source": [
    "**Task 5.4**: Now we change the packet size to 10, and re-run the two simulations in Task 5.3:\n",
    "\n",
    "CSMA, parameters:\n",
    "\n",
    "- retry = True\n",
    "- numnodes = 8\n",
    "- ptime = 10\n",
    "- simtime = 10000\n",
    "- pmin = 0.05\n",
    "- pmax = 0.95\n",
    "\n",
    "Stablised Aloha\n",
    "\n",
    "- retry = True\n",
    "- numnodes = 8\n",
    "- ptime = 10\n",
    "- simtime = 10000\n",
    "- pmin = 0.05\n",
    "- pmax = 0.95\n",
    "\n",
    "What do you observe?"
   ]
  },
  {
   "cell_type": "markdown",
   "metadata": {},
   "source": [
    "Your answer:"
   ]
  },
  {
   "cell_type": "markdown",
   "metadata": {},
   "source": [
    "**Task 5.5\\***: (optional) Now set the source skew to True. Try the following simulations:\n",
    "\n",
    "TDMA\n",
    "\n",
    "- numnodes = 8\n",
    "- ptime = 10\n",
    "- simtime = 10000\n",
    "- skew = True\n",
    "\n",
    "CSMA, parameters:\n",
    "\n",
    "- retry = True\n",
    "- numnodes = 8\n",
    "- ptime = 10\n",
    "- simtime = 10000\n",
    "- pmin = 0.05\n",
    "- pmax = 0.95\n",
    "- skew = True\n",
    "\n",
    "Stablised Aloha\n",
    "\n",
    "- retry = True\n",
    "- numnodes = 8\n",
    "- ptime = 10\n",
    "- simtime = 10000\n",
    "- pmin = 0.05\n",
    "- pmax = 0.95\n",
    "- skew = True\n",
    "\n",
    "Does CSMA suffer from load skewness? Now vary the node number to 32, 64, and 128. Does CSMA also scales better?"
   ]
  },
  {
   "cell_type": "markdown",
   "metadata": {},
   "source": [
    "Your answer:"
   ]
  }
 ],
 "metadata": {
  "kernelspec": {
   "display_name": "Python 3 (ipykernel)",
   "language": "python",
   "name": "python3"
  },
  "language_info": {
   "codemirror_mode": {
    "name": "ipython",
    "version": 3
   },
   "file_extension": ".py",
   "mimetype": "text/x-python",
   "name": "python",
   "nbconvert_exporter": "python",
   "pygments_lexer": "ipython3",
   "version": "3.12.1"
  }
 },
 "nbformat": 4,
 "nbformat_minor": 4
}
